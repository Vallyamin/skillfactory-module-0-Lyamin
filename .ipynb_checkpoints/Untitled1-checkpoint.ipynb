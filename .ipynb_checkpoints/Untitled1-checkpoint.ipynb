{
 "cells": [
  {
   "cell_type": "code",
   "execution_count": null,
   "metadata": {},
   "outputs": [],
   "source": [
    "import numpy as np\n",
    "def game_core_vl(number):\n",
    "    count=1\n",
    "    predict = np.random.randint(1,101)\n",
    "    print(predict)\n",
    "    while number != predict:\n",
    "        count+=1\n",
    "        if number//10 < predict//10:\n",
    "            predict-=10\n",
    "        else:\n",
    "            predict+=10\n",
    "        if number%10 < predict%10:\n",
    "            predict-=1\n",
    "        else:\n",
    "            predict+=1\n",
    "        print(predict)\n",
    "    return(count)"
   ]
  }
 ],
 "metadata": {
  "kernelspec": {
   "display_name": "Python 3",
   "language": "python",
   "name": "python3"
  },
  "language_info": {
   "codemirror_mode": {
    "name": "ipython",
    "version": 3
   },
   "file_extension": ".py",
   "mimetype": "text/x-python",
   "name": "python",
   "nbconvert_exporter": "python",
   "pygments_lexer": "ipython3",
   "version": "3.7.6"
  }
 },
 "nbformat": 4,
 "nbformat_minor": 4
}
